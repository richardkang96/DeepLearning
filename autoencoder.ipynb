{
 "cells": [
  {
   "cell_type": "code",
   "execution_count": 1,
   "metadata": {},
   "outputs": [],
   "source": [
    "import pandas as pd\n",
    "import seaborn as sns\n",
    "import matplotlib.pyplot as plt"
   ]
  },
  {
   "cell_type": "code",
   "execution_count": 2,
   "metadata": {},
   "outputs": [],
   "source": [
    "df = pd.read_csv('/Users/richard/Desktop/TF_2_Notebooks_and_Data/DATA/UK_foods.csv',index_col='Unnamed: 0')"
   ]
  },
  {
   "cell_type": "code",
   "execution_count": 3,
   "metadata": {},
   "outputs": [
    {
     "data": {
      "text/html": [
       "<div>\n",
       "<style scoped>\n",
       "    .dataframe tbody tr th:only-of-type {\n",
       "        vertical-align: middle;\n",
       "    }\n",
       "\n",
       "    .dataframe tbody tr th {\n",
       "        vertical-align: top;\n",
       "    }\n",
       "\n",
       "    .dataframe thead th {\n",
       "        text-align: right;\n",
       "    }\n",
       "</style>\n",
       "<table border=\"1\" class=\"dataframe\">\n",
       "  <thead>\n",
       "    <tr style=\"text-align: right;\">\n",
       "      <th></th>\n",
       "      <th>England</th>\n",
       "      <th>Wales</th>\n",
       "      <th>Scotland</th>\n",
       "      <th>N.Ireland</th>\n",
       "    </tr>\n",
       "  </thead>\n",
       "  <tbody>\n",
       "    <tr>\n",
       "      <th>Cheese</th>\n",
       "      <td>105</td>\n",
       "      <td>103</td>\n",
       "      <td>103</td>\n",
       "      <td>66</td>\n",
       "    </tr>\n",
       "    <tr>\n",
       "      <th>Carcass_meat</th>\n",
       "      <td>245</td>\n",
       "      <td>227</td>\n",
       "      <td>242</td>\n",
       "      <td>267</td>\n",
       "    </tr>\n",
       "    <tr>\n",
       "      <th>Other_meat</th>\n",
       "      <td>685</td>\n",
       "      <td>803</td>\n",
       "      <td>750</td>\n",
       "      <td>586</td>\n",
       "    </tr>\n",
       "    <tr>\n",
       "      <th>Fish</th>\n",
       "      <td>147</td>\n",
       "      <td>160</td>\n",
       "      <td>122</td>\n",
       "      <td>93</td>\n",
       "    </tr>\n",
       "    <tr>\n",
       "      <th>Fats_and_oils</th>\n",
       "      <td>193</td>\n",
       "      <td>235</td>\n",
       "      <td>184</td>\n",
       "      <td>209</td>\n",
       "    </tr>\n",
       "    <tr>\n",
       "      <th>Sugars</th>\n",
       "      <td>156</td>\n",
       "      <td>175</td>\n",
       "      <td>147</td>\n",
       "      <td>139</td>\n",
       "    </tr>\n",
       "    <tr>\n",
       "      <th>Fresh_potatoes</th>\n",
       "      <td>720</td>\n",
       "      <td>874</td>\n",
       "      <td>566</td>\n",
       "      <td>1033</td>\n",
       "    </tr>\n",
       "    <tr>\n",
       "      <th>Fresh_Veg</th>\n",
       "      <td>253</td>\n",
       "      <td>265</td>\n",
       "      <td>171</td>\n",
       "      <td>143</td>\n",
       "    </tr>\n",
       "    <tr>\n",
       "      <th>Other_Veg</th>\n",
       "      <td>488</td>\n",
       "      <td>570</td>\n",
       "      <td>418</td>\n",
       "      <td>355</td>\n",
       "    </tr>\n",
       "    <tr>\n",
       "      <th>Processed_potatoes</th>\n",
       "      <td>198</td>\n",
       "      <td>203</td>\n",
       "      <td>220</td>\n",
       "      <td>187</td>\n",
       "    </tr>\n",
       "    <tr>\n",
       "      <th>Processed_Veg</th>\n",
       "      <td>360</td>\n",
       "      <td>365</td>\n",
       "      <td>337</td>\n",
       "      <td>334</td>\n",
       "    </tr>\n",
       "    <tr>\n",
       "      <th>Fresh_fruit</th>\n",
       "      <td>1102</td>\n",
       "      <td>1137</td>\n",
       "      <td>957</td>\n",
       "      <td>674</td>\n",
       "    </tr>\n",
       "    <tr>\n",
       "      <th>Cereals</th>\n",
       "      <td>1472</td>\n",
       "      <td>1582</td>\n",
       "      <td>1462</td>\n",
       "      <td>1494</td>\n",
       "    </tr>\n",
       "    <tr>\n",
       "      <th>Beverages</th>\n",
       "      <td>57</td>\n",
       "      <td>73</td>\n",
       "      <td>53</td>\n",
       "      <td>47</td>\n",
       "    </tr>\n",
       "    <tr>\n",
       "      <th>Soft_drinks</th>\n",
       "      <td>1374</td>\n",
       "      <td>1256</td>\n",
       "      <td>1572</td>\n",
       "      <td>1506</td>\n",
       "    </tr>\n",
       "    <tr>\n",
       "      <th>Alcoholic_drinks</th>\n",
       "      <td>375</td>\n",
       "      <td>475</td>\n",
       "      <td>458</td>\n",
       "      <td>135</td>\n",
       "    </tr>\n",
       "    <tr>\n",
       "      <th>Confectionery</th>\n",
       "      <td>54</td>\n",
       "      <td>64</td>\n",
       "      <td>62</td>\n",
       "      <td>41</td>\n",
       "    </tr>\n",
       "  </tbody>\n",
       "</table>\n",
       "</div>"
      ],
      "text/plain": [
       "                     England  Wales  Scotland  N.Ireland\n",
       "Cheese                   105    103       103         66\n",
       "Carcass_meat             245    227       242        267\n",
       "Other_meat               685    803       750        586\n",
       "Fish                     147    160       122         93\n",
       "Fats_and_oils            193    235       184        209\n",
       "Sugars                   156    175       147        139\n",
       "Fresh_potatoes           720    874       566       1033\n",
       "Fresh_Veg                253    265       171        143\n",
       "Other_Veg                488    570       418        355\n",
       "Processed_potatoes       198    203       220        187\n",
       "Processed_Veg            360    365       337        334\n",
       "Fresh_fruit             1102   1137       957        674\n",
       "Cereals                 1472   1582      1462       1494\n",
       "Beverages                 57     73        53         47\n",
       "Soft_drinks             1374   1256      1572       1506\n",
       "Alcoholic_drinks         375    475       458        135\n",
       "Confectionery             54     64        62         41"
      ]
     },
     "execution_count": 3,
     "metadata": {},
     "output_type": "execute_result"
    }
   ],
   "source": [
    "df"
   ]
  },
  {
   "cell_type": "code",
   "execution_count": 4,
   "metadata": {},
   "outputs": [
    {
     "data": {
      "text/html": [
       "<div>\n",
       "<style scoped>\n",
       "    .dataframe tbody tr th:only-of-type {\n",
       "        vertical-align: middle;\n",
       "    }\n",
       "\n",
       "    .dataframe tbody tr th {\n",
       "        vertical-align: top;\n",
       "    }\n",
       "\n",
       "    .dataframe thead th {\n",
       "        text-align: right;\n",
       "    }\n",
       "</style>\n",
       "<table border=\"1\" class=\"dataframe\">\n",
       "  <thead>\n",
       "    <tr style=\"text-align: right;\">\n",
       "      <th></th>\n",
       "      <th>Cheese</th>\n",
       "      <th>Carcass_meat</th>\n",
       "      <th>Other_meat</th>\n",
       "      <th>Fish</th>\n",
       "      <th>Fats_and_oils</th>\n",
       "      <th>Sugars</th>\n",
       "      <th>Fresh_potatoes</th>\n",
       "      <th>Fresh_Veg</th>\n",
       "      <th>Other_Veg</th>\n",
       "      <th>Processed_potatoes</th>\n",
       "      <th>Processed_Veg</th>\n",
       "      <th>Fresh_fruit</th>\n",
       "      <th>Cereals</th>\n",
       "      <th>Beverages</th>\n",
       "      <th>Soft_drinks</th>\n",
       "      <th>Alcoholic_drinks</th>\n",
       "      <th>Confectionery</th>\n",
       "    </tr>\n",
       "  </thead>\n",
       "  <tbody>\n",
       "    <tr>\n",
       "      <th>England</th>\n",
       "      <td>105</td>\n",
       "      <td>245</td>\n",
       "      <td>685</td>\n",
       "      <td>147</td>\n",
       "      <td>193</td>\n",
       "      <td>156</td>\n",
       "      <td>720</td>\n",
       "      <td>253</td>\n",
       "      <td>488</td>\n",
       "      <td>198</td>\n",
       "      <td>360</td>\n",
       "      <td>1102</td>\n",
       "      <td>1472</td>\n",
       "      <td>57</td>\n",
       "      <td>1374</td>\n",
       "      <td>375</td>\n",
       "      <td>54</td>\n",
       "    </tr>\n",
       "    <tr>\n",
       "      <th>Wales</th>\n",
       "      <td>103</td>\n",
       "      <td>227</td>\n",
       "      <td>803</td>\n",
       "      <td>160</td>\n",
       "      <td>235</td>\n",
       "      <td>175</td>\n",
       "      <td>874</td>\n",
       "      <td>265</td>\n",
       "      <td>570</td>\n",
       "      <td>203</td>\n",
       "      <td>365</td>\n",
       "      <td>1137</td>\n",
       "      <td>1582</td>\n",
       "      <td>73</td>\n",
       "      <td>1256</td>\n",
       "      <td>475</td>\n",
       "      <td>64</td>\n",
       "    </tr>\n",
       "    <tr>\n",
       "      <th>Scotland</th>\n",
       "      <td>103</td>\n",
       "      <td>242</td>\n",
       "      <td>750</td>\n",
       "      <td>122</td>\n",
       "      <td>184</td>\n",
       "      <td>147</td>\n",
       "      <td>566</td>\n",
       "      <td>171</td>\n",
       "      <td>418</td>\n",
       "      <td>220</td>\n",
       "      <td>337</td>\n",
       "      <td>957</td>\n",
       "      <td>1462</td>\n",
       "      <td>53</td>\n",
       "      <td>1572</td>\n",
       "      <td>458</td>\n",
       "      <td>62</td>\n",
       "    </tr>\n",
       "    <tr>\n",
       "      <th>N.Ireland</th>\n",
       "      <td>66</td>\n",
       "      <td>267</td>\n",
       "      <td>586</td>\n",
       "      <td>93</td>\n",
       "      <td>209</td>\n",
       "      <td>139</td>\n",
       "      <td>1033</td>\n",
       "      <td>143</td>\n",
       "      <td>355</td>\n",
       "      <td>187</td>\n",
       "      <td>334</td>\n",
       "      <td>674</td>\n",
       "      <td>1494</td>\n",
       "      <td>47</td>\n",
       "      <td>1506</td>\n",
       "      <td>135</td>\n",
       "      <td>41</td>\n",
       "    </tr>\n",
       "  </tbody>\n",
       "</table>\n",
       "</div>"
      ],
      "text/plain": [
       "           Cheese  Carcass_meat   Other_meat   Fish  Fats_and_oils   Sugars  \\\n",
       "England       105            245          685   147             193     156   \n",
       "Wales         103            227          803   160             235     175   \n",
       "Scotland      103            242          750   122             184     147   \n",
       "N.Ireland      66            267          586    93             209     139   \n",
       "\n",
       "           Fresh_potatoes   Fresh_Veg   Other_Veg   Processed_potatoes   \\\n",
       "England                720         253         488                  198   \n",
       "Wales                  874         265         570                  203   \n",
       "Scotland               566         171         418                  220   \n",
       "N.Ireland             1033         143         355                  187   \n",
       "\n",
       "           Processed_Veg   Fresh_fruit   Cereals   Beverages  Soft_drinks   \\\n",
       "England               360          1102      1472         57          1374   \n",
       "Wales                 365          1137      1582         73          1256   \n",
       "Scotland              337           957      1462         53          1572   \n",
       "N.Ireland             334           674      1494         47          1506   \n",
       "\n",
       "           Alcoholic_drinks   Confectionery   \n",
       "England                  375              54  \n",
       "Wales                    475              64  \n",
       "Scotland                 458              62  \n",
       "N.Ireland                135              41  "
      ]
     },
     "execution_count": 4,
     "metadata": {},
     "output_type": "execute_result"
    }
   ],
   "source": [
    "df.transpose()"
   ]
  },
  {
   "cell_type": "code",
   "execution_count": 5,
   "metadata": {},
   "outputs": [
    {
     "data": {
      "image/png": "[encoded data removed]",
      "text/plain": [
       "<Figure size 864x576 with 2 Axes>"
      ]
     },
     "metadata": {
      "needs_background": "light"
     },
     "output_type": "display_data"
    }
   ],
   "source": [
    "plt.figure(figsize=(12,8))\n",
    "sns.heatmap(df);"
   ]
  },
  {
   "cell_type": "code",
   "execution_count": 6,
   "metadata": {},
   "outputs": [],
   "source": [
    "from tensorflow.keras.models import Sequential\n",
    "from tensorflow.keras.layers import Dense\n",
    "from tensorflow.keras.optimizers import SGD"
   ]
  },
  {
   "cell_type": "code",
   "execution_count": 7,
   "metadata": {},
   "outputs": [],
   "source": [
    "encoder = Sequential()\n",
    "encoder.add(Dense(8,activation='relu',input_shape=[17]))\n",
    "encoder.add(Dense(4,activation='relu'))\n",
    "encoder.add(Dense(2,activation='relu'))"
   ]
  },
  {
   "cell_type": "code",
   "execution_count": 8,
   "metadata": {},
   "outputs": [],
   "source": [
    "decoder = Sequential()\n",
    "decoder.add(Dense(4,activation='relu',input_shape=[2]))\n",
    "decoder.add(Dense(8,activation='relu'))\n",
    "decoder.add(Dense(17,activation='relu'))"
   ]
  },
  {
   "cell_type": "code",
   "execution_count": 9,
   "metadata": {},
   "outputs": [],
   "source": [
    "autoencoder = Sequential([encoder,decoder])\n",
    "autoencoder.compile(loss='mse',optimizer=SGD(1.5))"
   ]
  },
  {
   "cell_type": "code",
   "execution_count": 10,
   "metadata": {},
   "outputs": [],
   "source": [
    "from sklearn.preprocessing import MinMaxScaler\n",
    "scaler = MinMaxScaler()"
   ]
  },
  {
   "cell_type": "code",
   "execution_count": 11,
   "metadata": {},
   "outputs": [],
   "source": [
    "scaled_df = scaler.fit_transform(df.transpose())"
   ]
  },
  {
   "cell_type": "code",
   "execution_count": 12,
   "metadata": {},
   "outputs": [
    {
     "data": {
      "text/plain": [
       "array([[1.        , 0.45      , 0.4562212 , 0.80597015, 0.17647059,\n",
       "        0.47222222, 0.32976445, 0.90163934, 0.61860465, 0.33333333,\n",
       "        0.83870968, 0.92440605, 0.08333333, 0.38461538, 0.37341772,\n",
       "        0.70588235, 0.56521739],\n",
       "       [0.94871795, 0.        , 1.        , 1.        , 1.        ,\n",
       "        1.        , 0.65952891, 1.        , 1.        , 0.48484848,\n",
       "        1.        , 1.        , 1.        , 1.        , 0.        ,\n",
       "        1.        , 1.        ],\n",
       "       [0.94871795, 0.375     , 0.75576037, 0.43283582, 0.        ,\n",
       "        0.22222222, 0.        , 0.2295082 , 0.29302326, 1.        ,\n",
       "        0.09677419, 0.6112311 , 0.        , 0.23076923, 1.        ,\n",
       "        0.95      , 0.91304348],\n",
       "       [0.        , 1.        , 0.        , 0.        , 0.49019608,\n",
       "        0.        , 1.        , 0.        , 0.        , 0.        ,\n",
       "        0.        , 0.        , 0.26666667, 0.        , 0.79113924,\n",
       "        0.        , 0.        ]])"
      ]
     },
     "execution_count": 12,
     "metadata": {},
     "output_type": "execute_result"
    }
   ],
   "source": [
    "scaled_df"
   ]
  },
  {
   "cell_type": "code",
   "execution_count": 13,
   "metadata": {},
   "outputs": [
    {
     "name": "stdout",
     "output_type": "stream",
     "text": [
      "Epoch 1/15\n",
      "1/1 [==============================] - 0s 230ms/step - loss: 0.3935\n",
      "Epoch 2/15\n",
      "1/1 [==============================] - 0s 1ms/step - loss: 0.3488\n",
      "Epoch 3/15\n",
      "1/1 [==============================] - 0s 2ms/step - loss: 0.3451\n",
      "Epoch 4/15\n",
      "1/1 [==============================] - 0s 3ms/step - loss: 0.2869\n",
      "Epoch 5/15\n",
      "1/1 [==============================] - 0s 2ms/step - loss: 0.2816\n",
      "Epoch 6/15\n",
      "1/1 [==============================] - 0s 2ms/step - loss: 0.2790\n",
      "Epoch 7/15\n",
      "1/1 [==============================] - 0s 1ms/step - loss: 0.2774\n",
      "Epoch 8/15\n",
      "1/1 [==============================] - 0s 2ms/step - loss: 0.2763\n",
      "Epoch 9/15\n",
      "1/1 [==============================] - 0s 2ms/step - loss: 0.2752\n",
      "Epoch 10/15\n",
      "1/1 [==============================] - 0s 2ms/step - loss: 0.2742\n",
      "Epoch 11/15\n",
      "1/1 [==============================] - 0s 2ms/step - loss: 0.2734\n",
      "Epoch 12/15\n",
      "1/1 [==============================] - 0s 2ms/step - loss: 0.2722\n",
      "Epoch 13/15\n",
      "1/1 [==============================] - 0s 1ms/step - loss: 0.2718\n",
      "Epoch 14/15\n",
      "1/1 [==============================] - 0s 1ms/step - loss: 0.2707\n",
      "Epoch 15/15\n",
      "1/1 [==============================] - 0s 2ms/step - loss: 0.2707\n"
     ]
    },
    {
     "data": {
      "text/plain": [
       "<keras.callbacks.History at 0x7fa8cdb1ed90>"
      ]
     },
     "execution_count": 13,
     "metadata": {},
     "output_type": "execute_result"
    }
   ],
   "source": [
    "autoencoder.fit(scaled_df,scaled_df,epochs=15)"
   ]
  },
  {
   "cell_type": "code",
   "execution_count": 14,
   "metadata": {},
   "outputs": [
    {
     "data": {
      "text/plain": [
       "array([[0.91223097, 1.1580479 ],\n",
       "       [0.91396904, 1.1603107 ],\n",
       "       [0.79665864, 0.9740577 ],\n",
       "       [0.46523622, 0.04583118]], dtype=float32)"
      ]
     },
     "execution_count": 14,
     "metadata": {},
     "output_type": "execute_result"
    }
   ],
   "source": [
    "encoder.predict(scaled_df)"
   ]
  },
  {
   "cell_type": "code",
   "execution_count": 15,
   "metadata": {},
   "outputs": [
    {
     "data": {
      "text/plain": [
       "Index(['England', 'Wales', 'Scotland', 'N.Ireland'], dtype='object')"
      ]
     },
     "execution_count": 15,
     "metadata": {},
     "output_type": "execute_result"
    }
   ],
   "source": [
    "df.transpose().index"
   ]
  },
  {
   "cell_type": "code",
   "execution_count": 16,
   "metadata": {},
   "outputs": [],
   "source": [
    "pred = pd.DataFrame(data=encoder.predict(scaled_df),index=df.transpose().index).reset_index()"
   ]
  },
  {
   "cell_type": "code",
   "execution_count": 17,
   "metadata": {},
   "outputs": [],
   "source": [
    "pred.columns = ['index','C1','C2']"
   ]
  },
  {
   "cell_type": "code",
   "execution_count": 18,
   "metadata": {},
   "outputs": [
    {
     "data": {
      "image/png": "[encoded data removed]",
      "text/plain": [
       "<Figure size 432x288 with 1 Axes>"
      ]
     },
     "metadata": {
      "needs_background": "light"
     },
     "output_type": "display_data"
    }
   ],
   "source": [
    "sns.scatterplot(x='C1',y='C2',hue='index',data=pred);"
   ]
  }
 ],
 "metadata": {
  "kernelspec": {
   "display_name": "Python 3",
   "language": "python",
   "name": "python3"
  },
  "language_info": {
   "codemirror_mode": {
    "name": "ipython",
    "version": 3
   },
   "file_extension": ".py",
   "mimetype": "text/x-python",
   "name": "python",
   "nbconvert_exporter": "python",
   "pygments_lexer": "ipython3",
   "version": "3.8.5"
  }
 },
 "nbformat": 4,
 "nbformat_minor": 4
}
